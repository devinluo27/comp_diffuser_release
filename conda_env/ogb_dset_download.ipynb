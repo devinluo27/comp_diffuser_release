{
 "cells": [
  {
   "cell_type": "markdown",
   "metadata": {},
   "source": [
    "### Download OGBench Datasets"
   ]
  },
  {
   "cell_type": "code",
   "execution_count": 1,
   "metadata": {},
   "outputs": [
    {
     "name": "stdout",
     "output_type": "stream",
     "text": [
      "[OGBench Repo] Call: make_env_and_datasets(), make gymna env\n",
      "loco_env_class=<class 'ogbench.locomaze.ant.AntEnv'>\n",
      "\u001b[31m[OgB MazeEnv] call reset (for goal) args=() kwargs={} \u001b[39m\n",
      "Downloading dataset from: https://rail.eecs.berkeley.edu/datasets/ogbench/antmaze-giant-stitch-v0.npz\n"
     ]
    },
    {
     "name": "stderr",
     "output_type": "stream",
     "text": [
      "antmaze-giant-stitch-v0.npz: 100%|██████████| 234M/234M [00:12<00:00, 19.1MB/s] \n"
     ]
    },
    {
     "name": "stdout",
     "output_type": "stream",
     "text": [
      "Downloading dataset from: https://rail.eecs.berkeley.edu/datasets/ogbench/antmaze-giant-stitch-v0-val.npz\n"
     ]
    },
    {
     "name": "stderr",
     "output_type": "stream",
     "text": [
      "antmaze-giant-stitch-v0-val.npz: 100%|██████████| 23.4M/23.4M [00:01<00:00, 24.3MB/s]\n"
     ]
    },
    {
     "name": "stdout",
     "output_type": "stream",
     "text": [
      "\u001b[31m[OgB MazeEnv] call reset (for goal) args=() kwargs={} \u001b[39m\n"
     ]
    }
   ],
   "source": [
    "\"\"\"\n",
    "Please install the CompDiffuser customized OGBench github repo first.\n",
    "\n",
    "You can use this file to download offical OGBench datasets, curated by \n",
    "https://seohong.me/projects/ogbench/\n",
    "\n",
    "Check this file in OGBench folder 'ogbench/utils.py' to modify the default download path.\n",
    "The default path is < DEFAULT_DATASET_DIR = '~/.ogbench/data' >\n",
    "\n",
    "This file is based on the code in the Official OGBench github repo.\n",
    "\"\"\"\n",
    "\n",
    "import ogbench, os\n",
    "## 'egl' needs a GPU\n",
    "os.environ['PYOPENGL_PLATFORM'] = 'egl'\n",
    "os.environ['MUJOCO_GL'] = 'egl'\n",
    "\n",
    "## 'osmesa' cpu rendering\n",
    "os.environ['PYOPENGL_PLATFORM'] = 'osmesa'\n",
    "os.environ['MUJOCO_GL'] = 'osmesa'\n",
    "\n",
    "\n",
    "\n",
    "## which dataset to download\n",
    "dataset_name = 'antmaze-giant-stitch-v0'\n",
    "# dataset_name = 'humanoidmaze-medium-stitch-v0'\n",
    "# dataset_name = 'humanoidmaze-large-stitch-v0'\n",
    "# dataset_name = 'antsoccer-arena-stitch-v0'\n",
    "# dataset_name = 'antsoccer-medium-stitch-v0'\n",
    "\n",
    "env, train_dataset, val_dataset = ogbench.make_env_and_datasets(dataset_name)\n",
    "\n",
    "# Train your offline goal-conditioned RL agent on the dataset.\n",
    "# ...\n",
    "\n",
    "# Evaluate the agent.\n",
    "# for task_id in [1, 2, 3, 4, 5]:\n",
    "for task_id in [1,]:\n",
    "    # Reset the environment and set the evaluation task.\n",
    "    ob, info = env.reset(\n",
    "        options=dict(\n",
    "            task_id=task_id,  # Set the evaluation task. Each environment provides five\n",
    "                              # evaluation goals, and `task_id` must be in [1, 5].\n",
    "            render_goal=True,  # Set to `True` to get a rendered goal image (optional).\n",
    "        )\n",
    "    )\n",
    "\n",
    "    goal = info['goal']  # Get the goal observation to pass to the agent.\n",
    "    goal_rendered = info['goal_rendered']  # Get the rendered goal image (optional).\n",
    "\n",
    "    done = False\n",
    "    imgs = []\n",
    "    # while not done:\n",
    "    for _ in range(10):\n",
    "        action = env.action_space.sample()  # Replace this with your agent's action.\n",
    "        ob, reward, terminated, truncated, info = env.step(action)  # Gymnasium-style step.\n",
    "        # If the agent reaches the goal, `terminated` will be `True`. If the episode length\n",
    "        # exceeds the maximum length without reaching the goal, `truncated` will be `True`.\n",
    "        # `reward` is 1 if the agent reaches the goal and 0 otherwise.\n",
    "        done = terminated or truncated\n",
    "        frame = env.render()  # Render the current frame (optional).\n",
    "        imgs.append(frame)\n",
    "\n",
    "    success = info['success']  # Whether the agent reached the goal (0 or 1).\n",
    "                               # `terminated` also indicates this.\n",
    "# del env"
   ]
  },
  {
   "cell_type": "markdown",
   "metadata": {},
   "source": [
    "#### render"
   ]
  },
  {
   "cell_type": "code",
   "execution_count": 4,
   "metadata": {},
   "outputs": [
    {
     "name": "stdout",
     "output_type": "stream",
     "text": [
      "imgs[0].shape=(200, 168, 3)\n"
     ]
    },
    {
     "data": {
      "text/html": [
       "<table class=\"show_images\" style=\"border-spacing:0px;\"><tr><td style=\"padding:1px;\"><img width=\"168\" height=\"200\" style=\"image-rendering:auto; object-fit:cover;\" src=\"data:image/png;base64,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\"/></td></tr></table>"
      ],
      "text/plain": [
       "<IPython.core.display.HTML object>"
      ]
     },
     "metadata": {},
     "output_type": "display_data"
    },
    {
     "name": "stdout",
     "output_type": "stream",
     "text": [
      "\u001b[31m[OgB MazeEnv] call reset (for goal) args=() kwargs={} \u001b[39m\n"
     ]
    }
   ],
   "source": [
    "import mediapy as mpy\n",
    "import numpy as np\n",
    "# mpy.show_images(imgs)\n",
    "# mpy.show_video(imgs)\n",
    "print( f'{imgs[0].shape=}' )\n",
    "imgs[0].min()\n",
    "mpy.show_image(imgs[0])\n",
    "task_id = 2\n",
    "ob, info = env.reset(options=dict( task_id=task_id, render_goal=True ,) , )\n",
    "img = env.render()\n",
    "# env.render_mode\n",
    "# mpy.show_image(env.render())\n",
    "# mpy.show_image( info['goal_rendered'] )\n",
    "# env.close()\n"
   ]
  },
  {
   "cell_type": "code",
   "execution_count": 11,
   "metadata": {},
   "outputs": [
    {
     "name": "stdout",
     "output_type": "stream",
     "text": [
      "dataset_path='~/.ogbench/data/antmaze-giant-stitch-v0.npz'\n",
      "dataset_path_2='/nethome/yluo470/.ogbench/data/antmaze-giant-stitch-v0.npz'\n",
      "False\n",
      "True\n"
     ]
    }
   ],
   "source": [
    "import os\n",
    "dataset_path = '~/.ogbench/data/antmaze-giant-stitch-v0.npz'\n",
    "dataset_path_2 = os.path.expanduser(dataset_path)\n",
    "print(f'{dataset_path=}\\n{dataset_path_2=}')\n",
    "print( os.path.exists(dataset_path) )\n",
    "print( os.path.exists(dataset_path_2) )"
   ]
  },
  {
   "cell_type": "code",
   "execution_count": 13,
   "metadata": {},
   "outputs": [
    {
     "data": {
      "text/plain": [
       "True"
      ]
     },
     "execution_count": 13,
     "metadata": {},
     "output_type": "execute_result"
    }
   ],
   "source": [
    "os.path.expanduser(dataset_path_2) == dataset_path_2"
   ]
  }
 ],
 "metadata": {
  "kernelspec": {
   "display_name": "Python 3 (ipykernel)",
   "language": "python",
   "name": "python3"
  },
  "language_info": {
   "codemirror_mode": {
    "name": "ipython",
    "version": 3
   },
   "file_extension": ".py",
   "mimetype": "text/x-python",
   "name": "python",
   "nbconvert_exporter": "python",
   "pygments_lexer": "ipython3",
   "version": "3.9.20"
  }
 },
 "nbformat": 4,
 "nbformat_minor": 2
}
